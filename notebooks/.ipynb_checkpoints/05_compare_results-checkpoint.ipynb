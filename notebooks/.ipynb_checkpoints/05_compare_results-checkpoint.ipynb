{
 "cells": [
  {
   "cell_type": "code",
   "execution_count": 1,
   "metadata": {},
   "outputs": [
    {
     "name": "stderr",
     "output_type": "stream",
     "text": [
      "Using TensorFlow backend.\n"
     ]
    }
   ],
   "source": [
    "%load_ext autoreload\n",
    "%autoreload 2\n",
    "\n",
    "\n",
    "import numpy as np\n",
    "import matplotlib.pyplot as plt\n",
    "from matplotlib import rc\n",
    "from matplotlib.cm import get_cmap\n",
    "import pickle\n",
    "import os\n",
    "\n",
    "font = {'family' : 'sans-serif',\n",
    "        'size'   : 12}\n",
    "\n",
    "rc('font', **font)\n",
    "import sys\n",
    "sys.path.insert(0,'..')\n",
    "\n",
    "from mavd.callbacks import *"
   ]
  },
  {
   "cell_type": "code",
   "execution_count": 2,
   "metadata": {},
   "outputs": [],
   "source": [
    "list_proms = ['Global', 'Average', 'Weighted\\nsum']\n",
    "list_level1 = ['car','bus','motorcycle']\n",
    "list_level2 = ['engine','brakes','wheel','comp.']\n",
    "list_level3 = ['car\\nengine','car\\nwheel',\n",
    "              'bus\\nengine', 'bus\\nbrakes','bus\\ncompressor','bus\\nwheel',\n",
    "              'motorcycle\\nengine', 'motorcycle\\nbrakes']\n",
    "\n",
    "list_total1 = list_level1 + list_proms\n",
    "list_total2 = list_level2 + list_proms\n",
    "list_total3 = list_level3 + list_proms"
   ]
  },
  {
   "cell_type": "code",
   "execution_count": 3,
   "metadata": {},
   "outputs": [],
   "source": [
    "expfolder_RF = '../exps/RandomForest/'\n",
    "\n",
    "with open(os.path.join(expfolder_RF, 'results_evaluation.pickle'), 'rb') as fp:\n",
    "    results_RF = pickle.load(fp, encoding='latin1')\n",
    "\n",
    "\n",
    "RF = {}    \n",
    "RF['level1'] = {}\n",
    "RF['level2'] = {}\n",
    "RF['level3'] = {}\n",
    "\n",
    "RF['level1']['ER'] = np.concatenate((results_RF['nivel1']['ER'],results_RF['nivel1']['promsER']))\n",
    "RF['level2']['ER'] = np.concatenate((results_RF['nivel2']['ER'],results_RF['nivel2']['promsER']))\n",
    "RF['level3']['ER'] = np.concatenate((results_RF['nivel3']['ER'],results_RF['nivel3']['promsER']))\n",
    "\n",
    "RF['level1']['F1'] = np.concatenate((results_RF['nivel1']['F1'],results_RF['nivel1']['promsF1']))\n",
    "RF['level2']['F1'] = np.concatenate((results_RF['nivel2']['F1'],results_RF['nivel2']['promsF1']))\n",
    "RF['level3']['F1'] = np.concatenate((results_RF['nivel3']['F1'],results_RF['nivel3']['promsF1']))"
   ]
  },
  {
   "cell_type": "code",
   "execution_count": 4,
   "metadata": {},
   "outputs": [],
   "source": [
    "expfolder_CNN = '../exps/S-CNN_fine_tuning/'\n",
    "\n",
    "with open(os.path.join(expfolder_CNN, 'results.pickle'), 'rb') as fp:\n",
    "    results_CNN = pickle.load(fp, encoding='latin1')\n",
    "\n",
    "lists_levels = [list_level1, list_level2, list_level3]    \n",
    "levels = ['level1', 'level2', 'level3']\n",
    "\n",
    "CNN = {}\n",
    "\n",
    "for i, level in enumerate(levels):\n",
    "    CNN[level] = {}\n",
    "\n",
    "    y = results_CNN[\"test\"]['y'][i]\n",
    "    predicted = results_CNN[\"test\"]['predicted'][i]\n",
    "    \n",
    "    ER_classes = np.zeros((len(lists_levels[i])))\n",
    "    F1_classes = np.zeros((len(lists_levels[i])))\n",
    "    \n",
    "    for c in range(len(lists_levels[i])):\n",
    "        ER_classes[c] = ER(y[:,c],predicted[:,c])\n",
    "        F1_classes[c] = F1(y[:,c],predicted[:,c])\n",
    "        if c==0:\n",
    "            ER_global = ER(y,predicted)\n",
    "            F1_global = F1(y,predicted)\n",
    "    \n",
    "    ER_average = np.mean(ER_classes)\n",
    "    F1_average = np.mean(F1_classes)    \n",
    "\n",
    "    # weigths for Weighted Sum\n",
    "    w = np.sum(y,axis=0)\n",
    "    w[w==0] = np.amin(w[np.nonzero(w)])\n",
    "    w = 1/w/np.sum(1/w)  \n",
    "    \n",
    "    ER_weighted = np.sum(ER_classes*w)\n",
    "    F1_weighted = np.sum(F1_classes*w)\n",
    "    \n",
    "    proms_ER = [ER_global, ER_average, ER_weighted]\n",
    "    proms_F1 = [F1_global, F1_average, F1_weighted]\n",
    "    \n",
    "    CNN[level]['ER'] = np.concatenate((ER_classes,proms_ER))\n",
    "    CNN[level]['F1'] = np.concatenate((F1_classes,proms_F1))"
   ]
  },
  {
   "cell_type": "code",
   "execution_count": 5,
   "metadata": {},
   "outputs": [
    {
     "data": {
      "image/png": "[encoded data removed]",
      "text/plain": [
       "<Figure size 864x432 with 3 Axes>"
      ]
     },
     "metadata": {
      "needs_background": "light"
     },
     "output_type": "display_data"
    }
   ],
   "source": [
    "plt.figure(figsize=(12,6))\n",
    "\n",
    "cmap = get_cmap('viridis')\n",
    "c0 = cmap(0.1)\n",
    "c1 = cmap(0.3)\n",
    "c2 = cmap(0.5)\n",
    "c3 = cmap(0.55)\n",
    "c4 = cmap(0.8)\n",
    "\n",
    "ax1 = plt.subplot2grid((2, 2), (0, 0))\n",
    "ax2 = plt.subplot2grid((2, 2), (0, 1))\n",
    "ax3 = plt.subplot2grid((2, 2), (1, 0), colspan=2)\n",
    "\n",
    "#fig, ax1 = plt.subplots()\n",
    "ax1.set_title('Vehicles level')\n",
    "ax1.bar(np.arange(len(list_total1))-0.4, CNN['level1']['F1']*100, width=0.4,color=c1, tick_label=list_total1)\n",
    "ax1.bar(np.arange(len(list_total1)), RF['level1']['F1'], width=0.4,color=c3, tick_label=list_total1)\n",
    "ax1.set_xticks(np.arange(len(list_total1))-0.2)\n",
    "ax1.plot([2.3,2.3],[0,90],'k--',linewidth=2.0)\n",
    "rect1 = matplotlib.patches.Rectangle((2.3,0), 3.3, 90, color='gray', alpha=0.3)\n",
    "ax1.add_patch(rect1)\n",
    "ax1.set_ylabel('F1 (%)')\n",
    "ax1.set_ylim([0,90])\n",
    "ax1.grid()\n",
    "\n",
    "ax2.set_title('Components level')\n",
    "ax2.bar(np.arange(len(list_total2))-0.4, CNN['level2']['F1']*100, width=0.4,color=c1, tick_label=list_total2)\n",
    "ax2.bar(np.arange(len(list_total2)), RF['level2']['F1'], width=0.4,color=c3, tick_label=list_total2)\n",
    "ax2.set_xticks(np.arange(len(list_total2))-0.2)\n",
    "ax2.set_ylabel('F1 (%)')\n",
    "ax2.plot([3.3,3.3],[0,90],'k--',linewidth=2.0)\n",
    "rect1 = matplotlib.patches.Rectangle((3.3,0), 3.3, 90, color='gray', alpha=0.3)\n",
    "ax2.add_patch(rect1)\n",
    "ax2.set_ylim([0,90])\n",
    "ax2.grid()\n",
    "\n",
    "ax3.set_title('Subordinate level')\n",
    "ax3.bar(np.arange(len(list_total3))-0.4, CNN['level3']['F1']*100, width=0.4,color=c1, tick_label=list_total3, label='S-CNN (FT)')\n",
    "ax3.bar(np.arange(len(list_total3)), RF['level3']['F1'], width=0.4,color=c3, tick_label=list_total3, label='Random Forest')\n",
    "ax3.set_xticks(np.arange(len(list_total3))-0.2)\n",
    "ax3.set_ylabel('F1 (%)')\n",
    "ax3.plot([7.3,7.3],[0,90],'k--',linewidth=2.0)\n",
    "ax3.legend(loc='upper right')\n",
    "rect1 = matplotlib.patches.Rectangle((7.3,0), 4, 90, color='gray', alpha=0.3)\n",
    "ax3.add_patch(rect1)\n",
    "ax3.set_ylim([0,90])\n",
    "ax3.grid()\n",
    "\n",
    "\n",
    "plt.tight_layout()\n",
    "#plt.savefig(\"compare_results_MAVD.png\", dpi=300)\n",
    "plt.show()"
   ]
  },
  {
   "cell_type": "code",
   "execution_count": null,
   "metadata": {},
   "outputs": [],
   "source": []
  }
 ],
 "metadata": {
  "kernelspec": {
   "display_name": "Python 3",
   "language": "python",
   "name": "python3"
  },
  "language_info": {
   "codemirror_mode": {
    "name": "ipython",
    "version": 3
   },
   "file_extension": ".py",
   "mimetype": "text/x-python",
   "name": "python",
   "nbconvert_exporter": "python",
   "pygments_lexer": "ipython3",
   "version": "3.7.3"
  }
 },
 "nbformat": 4,
 "nbformat_minor": 2
}
